{
  "nbformat": 4,
  "nbformat_minor": 0,
  "metadata": {
    "colab": {
      "provenance": [],
      "authorship_tag": "ABX9TyMkAakYKjqST2dl7Cu25P/e",
      "include_colab_link": true
    },
    "kernelspec": {
      "name": "python3",
      "display_name": "Python 3"
    },
    "language_info": {
      "name": "python"
    }
  },
  "cells": [
    {
      "cell_type": "markdown",
      "metadata": {
        "id": "view-in-github",
        "colab_type": "text"
      },
      "source": [
        "<a href=\"https://colab.research.google.com/github/Nidhi61101/Stockport-Predictive-Sentiment-Analysis/blob/main/MBTI_Calculator.ipynb\" target=\"_parent\"><img src=\"https://colab.research.google.com/assets/colab-badge.svg\" alt=\"Open In Colab\"/></a>"
      ]
    },
    {
      "cell_type": "code",
      "execution_count": null,
      "metadata": {
        "id": "oPIltH-zt8os",
        "colab": {
          "base_uri": "https://localhost:8080/"
        },
        "outputId": "6ad4d266-0f89-4f8b-a422-0798f1a3c47e"
      },
      "outputs": [
        {
          "output_type": "stream",
          "name": "stderr",
          "text": [
            "/usr/local/lib/python3.8/dist-packages/torch/cuda/__init__.py:497: UserWarning: Can't initialize NVML\n",
            "  warnings.warn(\"Can't initialize NVML\")\n"
          ]
        }
      ],
      "source": [
        "#Importing Libraries\n",
        "\n",
        "import nltk\n",
        "from nltk.corpus import stopwords\n",
        "import nltk\n",
        "import spacy\n",
        "from nltk.stem.porter import PorterStemmer\n",
        "import numpy as np\n",
        "import pandas as pd\n",
        "import matplotlib.pyplot as plt\n",
        "import re\n",
        "import seaborn as sns\n",
        "from sklearn.model_selection import train_test_split \n",
        "from sklearn.ensemble import RandomForestClassifier\n",
        "from sklearn.neighbors import KNeighborsClassifier"
      ]
    },
    {
      "cell_type": "code",
      "source": [
        "nltk.download('stopwords')\n",
        "set_stopwords = set(stopwords.words('english'))\n",
        "#Lemmatizers\n",
        "nltk.download('wordnet')\n",
        "nltk.download('omw-1.4')\n",
        "wordnet = nltk.WordNetLemmatizer()"
      ],
      "metadata": {
        "colab": {
          "base_uri": "https://localhost:8080/"
        },
        "id": "d0Pt014S_lDy",
        "outputId": "5bf14b81-3bbb-43d3-ffe9-0a80c7d7b594"
      },
      "execution_count": null,
      "outputs": [
        {
          "output_type": "stream",
          "name": "stderr",
          "text": [
            "[nltk_data] Downloading package stopwords to /root/nltk_data...\n",
            "[nltk_data]   Unzipping corpora/stopwords.zip.\n",
            "[nltk_data] Downloading package wordnet to /root/nltk_data...\n",
            "[nltk_data] Downloading package omw-1.4 to /root/nltk_data...\n"
          ]
        }
      ]
    },
    {
      "cell_type": "code",
      "source": [
        "df=pd.read_csv(\"/content/mbti_1.csv\")\n",
        "df.head()"
      ],
      "metadata": {
        "colab": {
          "base_uri": "https://localhost:8080/",
          "height": 206
        },
        "id": "10o7z81nAEf4",
        "outputId": "972599e9-76ea-42c0-d2b7-35678fdefaa6"
      },
      "execution_count": null,
      "outputs": [
        {
          "output_type": "execute_result",
          "data": {
            "text/plain": [
              "   type                                              posts\n",
              "0  INFJ  'http://www.youtube.com/watch?v=qsXHcwe3krw|||...\n",
              "1  ENTP  'I'm finding the lack of me in these posts ver...\n",
              "2  INTP  'Good one  _____   https://www.youtube.com/wat...\n",
              "3  INTJ  'Dear INTP,   I enjoyed our conversation the o...\n",
              "4  ENTJ  'You're fired.|||That's another silly misconce..."
            ],
            "text/html": [
              "\n",
              "  <div id=\"df-02148c98-2ebb-47ec-9b4f-5310a0f68e6d\">\n",
              "    <div class=\"colab-df-container\">\n",
              "      <div>\n",
              "<style scoped>\n",
              "    .dataframe tbody tr th:only-of-type {\n",
              "        vertical-align: middle;\n",
              "    }\n",
              "\n",
              "    .dataframe tbody tr th {\n",
              "        vertical-align: top;\n",
              "    }\n",
              "\n",
              "    .dataframe thead th {\n",
              "        text-align: right;\n",
              "    }\n",
              "</style>\n",
              "<table border=\"1\" class=\"dataframe\">\n",
              "  <thead>\n",
              "    <tr style=\"text-align: right;\">\n",
              "      <th></th>\n",
              "      <th>type</th>\n",
              "      <th>posts</th>\n",
              "    </tr>\n",
              "  </thead>\n",
              "  <tbody>\n",
              "    <tr>\n",
              "      <th>0</th>\n",
              "      <td>INFJ</td>\n",
              "      <td>'http://www.youtube.com/watch?v=qsXHcwe3krw|||...</td>\n",
              "    </tr>\n",
              "    <tr>\n",
              "      <th>1</th>\n",
              "      <td>ENTP</td>\n",
              "      <td>'I'm finding the lack of me in these posts ver...</td>\n",
              "    </tr>\n",
              "    <tr>\n",
              "      <th>2</th>\n",
              "      <td>INTP</td>\n",
              "      <td>'Good one  _____   https://www.youtube.com/wat...</td>\n",
              "    </tr>\n",
              "    <tr>\n",
              "      <th>3</th>\n",
              "      <td>INTJ</td>\n",
              "      <td>'Dear INTP,   I enjoyed our conversation the o...</td>\n",
              "    </tr>\n",
              "    <tr>\n",
              "      <th>4</th>\n",
              "      <td>ENTJ</td>\n",
              "      <td>'You're fired.|||That's another silly misconce...</td>\n",
              "    </tr>\n",
              "  </tbody>\n",
              "</table>\n",
              "</div>\n",
              "      <button class=\"colab-df-convert\" onclick=\"convertToInteractive('df-02148c98-2ebb-47ec-9b4f-5310a0f68e6d')\"\n",
              "              title=\"Convert this dataframe to an interactive table.\"\n",
              "              style=\"display:none;\">\n",
              "        \n",
              "  <svg xmlns=\"http://www.w3.org/2000/svg\" height=\"24px\"viewBox=\"0 0 24 24\"\n",
              "       width=\"24px\">\n",
              "    <path d=\"M0 0h24v24H0V0z\" fill=\"none\"/>\n",
              "    <path d=\"M18.56 5.44l.94 2.06.94-2.06 2.06-.94-2.06-.94-.94-2.06-.94 2.06-2.06.94zm-11 1L8.5 8.5l.94-2.06 2.06-.94-2.06-.94L8.5 2.5l-.94 2.06-2.06.94zm10 10l.94 2.06.94-2.06 2.06-.94-2.06-.94-.94-2.06-.94 2.06-2.06.94z\"/><path d=\"M17.41 7.96l-1.37-1.37c-.4-.4-.92-.59-1.43-.59-.52 0-1.04.2-1.43.59L10.3 9.45l-7.72 7.72c-.78.78-.78 2.05 0 2.83L4 21.41c.39.39.9.59 1.41.59.51 0 1.02-.2 1.41-.59l7.78-7.78 2.81-2.81c.8-.78.8-2.07 0-2.86zM5.41 20L4 18.59l7.72-7.72 1.47 1.35L5.41 20z\"/>\n",
              "  </svg>\n",
              "      </button>\n",
              "      \n",
              "  <style>\n",
              "    .colab-df-container {\n",
              "      display:flex;\n",
              "      flex-wrap:wrap;\n",
              "      gap: 12px;\n",
              "    }\n",
              "\n",
              "    .colab-df-convert {\n",
              "      background-color: #E8F0FE;\n",
              "      border: none;\n",
              "      border-radius: 50%;\n",
              "      cursor: pointer;\n",
              "      display: none;\n",
              "      fill: #1967D2;\n",
              "      height: 32px;\n",
              "      padding: 0 0 0 0;\n",
              "      width: 32px;\n",
              "    }\n",
              "\n",
              "    .colab-df-convert:hover {\n",
              "      background-color: #E2EBFA;\n",
              "      box-shadow: 0px 1px 2px rgba(60, 64, 67, 0.3), 0px 1px 3px 1px rgba(60, 64, 67, 0.15);\n",
              "      fill: #174EA6;\n",
              "    }\n",
              "\n",
              "    [theme=dark] .colab-df-convert {\n",
              "      background-color: #3B4455;\n",
              "      fill: #D2E3FC;\n",
              "    }\n",
              "\n",
              "    [theme=dark] .colab-df-convert:hover {\n",
              "      background-color: #434B5C;\n",
              "      box-shadow: 0px 1px 3px 1px rgba(0, 0, 0, 0.15);\n",
              "      filter: drop-shadow(0px 1px 2px rgba(0, 0, 0, 0.3));\n",
              "      fill: #FFFFFF;\n",
              "    }\n",
              "  </style>\n",
              "\n",
              "      <script>\n",
              "        const buttonEl =\n",
              "          document.querySelector('#df-02148c98-2ebb-47ec-9b4f-5310a0f68e6d button.colab-df-convert');\n",
              "        buttonEl.style.display =\n",
              "          google.colab.kernel.accessAllowed ? 'block' : 'none';\n",
              "\n",
              "        async function convertToInteractive(key) {\n",
              "          const element = document.querySelector('#df-02148c98-2ebb-47ec-9b4f-5310a0f68e6d');\n",
              "          const dataTable =\n",
              "            await google.colab.kernel.invokeFunction('convertToInteractive',\n",
              "                                                     [key], {});\n",
              "          if (!dataTable) return;\n",
              "\n",
              "          const docLinkHtml = 'Like what you see? Visit the ' +\n",
              "            '<a target=\"_blank\" href=https://colab.research.google.com/notebooks/data_table.ipynb>data table notebook</a>'\n",
              "            + ' to learn more about interactive tables.';\n",
              "          element.innerHTML = '';\n",
              "          dataTable['output_type'] = 'display_data';\n",
              "          await google.colab.output.renderOutput(dataTable, element);\n",
              "          const docLink = document.createElement('div');\n",
              "          docLink.innerHTML = docLinkHtml;\n",
              "          element.appendChild(docLink);\n",
              "        }\n",
              "      </script>\n",
              "    </div>\n",
              "  </div>\n",
              "  "
            ]
          },
          "metadata": {},
          "execution_count": 3
        }
      ]
    },
    {
      "cell_type": "markdown",
      "source": [
        "# **DATA VISUALIZATION**"
      ],
      "metadata": {
        "id": "Qm1ucJ2dEQw6"
      }
    },
    {
      "cell_type": "code",
      "source": [
        "#Plot to show above inference\n",
        "plt.figure(figsize=(18,10))\n",
        "sns.countplot(x='type', data=df, order=df.type.value_counts().index, orient='v')\n",
        "sns.set_context('talk')\n",
        "plt.title('Personality types distribution', fontsize=25)\n",
        "plt.show()\n",
        "\n",
        "\n",
        "plt.figure(figsize=(10, 10))\n",
        "plt.pie(df.type.value_counts(),labels=df['type'].unique(), autopct='%1.0f%%', pctdistance=1.1, labeldistance=1.2,shadow=True)\n",
        "plt.axis('equal')\n",
        "plt.show()"
      ],
      "metadata": {
        "id": "mXU_hUCcJwYn",
        "colab": {
          "base_uri": "https://localhost:8080/",
          "height": 1000
        },
        "outputId": "c0491efa-c9eb-4b39-fb8f-af7e67d311b0"
      },
      "execution_count": null,
      "outputs": [
        {
          "output_type": "display_data",
          "data": {
            "text/plain": [
              "<Figure size 1296x720 with 1 Axes>"
            ],
            "image/png": "[encoded data removed]"
          },
          "metadata": {
            "needs_background": "light"
          }
        },
        {
          "output_type": "display_data",
          "data": {
            "text/plain": [
              "<Figure size 720x720 with 1 Axes>"
            ],
            "image/png": "[encoded data removed]"
          },
          "metadata": {}
        }
      ]
    },
    {
      "cell_type": "markdown",
      "source": [
        "# **DATA PREPROCESSING**"
      ],
      "metadata": {
        "id": "4JPSEgTBpd84"
      }
    },
    {
      "cell_type": "code",
      "source": [
        "def cleantext(text):\n",
        "\n",
        "    #convert to lower case\n",
        "    text = text.lower()\n",
        "\n",
        "    #Removing URLs\n",
        "    text=re.sub(r'https?:\\/\\/.*?[\\s+]', '', text.replace(\"|\",\" \") + \" \")\n",
        "    text = re.sub(r\"http\\S+\", \"\", text, flags=re.MULTILINE)\n",
        "\n",
        "    #Removing multiple letters repeating words\n",
        "    text=re.sub(r'([a-z])\\1{2,}[\\s|\\w]*','',text)\n",
        "\n",
        "    #Removing words that contain digit\n",
        "    #text = re.sub('[^a-z\\s]','',text)\n",
        "\n",
        "    #Removing paranthesis\n",
        "    text=re.sub('(\\[|\\()*\\d+(\\]|\\))*', ' ', text)\n",
        "\n",
        "    #Removing more than one space\n",
        "    text=re.sub(' +', ' ', text)\n",
        "\n",
        "    #Convert string to list\n",
        "    list_words = text.split(' ')\n",
        "\n",
        "    #Remove Stopwords\n",
        "    text = []\n",
        "    for word in list_words:\n",
        "      if word not in set_stopwords:\n",
        "        text.append(wordnet.lemmatize(word))\n",
        "\n",
        "    #Convert list back to string\n",
        "    text = ' '.join(text)\n",
        "    return text"
      ],
      "metadata": {
        "id": "nF6tD4P4AwiG"
      },
      "execution_count": null,
      "outputs": []
    },
    {
      "cell_type": "code",
      "source": [
        "df['posts'] = df['posts'].apply(cleantext)\n",
        "df.head()"
      ],
      "metadata": {
        "id": "dWpGwQ0uBsaK",
        "colab": {
          "base_uri": "https://localhost:8080/",
          "height": 206
        },
        "outputId": "5cde2e8d-59f8-4cef-d8cc-e7906509ddd6"
      },
      "execution_count": null,
      "outputs": [
        {
          "output_type": "execute_result",
          "data": {
            "text/plain": [
              "   type                                              posts\n",
              "0  INFJ  ' enfp intj moment sportscenter top ten play p...\n",
              "1  ENTP  'i'm finding lack post alarming. sex boring po...\n",
              "2  INTP  'good one _____ course, say know; that's bless...\n",
              "3  INTJ  'dear intp, enjoyed conversation day. esoteric...\n",
              "4  ENTJ  'you're fired. that's another silly misconcept..."
            ],
            "text/html": [
              "\n",
              "  <div id=\"df-e63066ad-5f3f-497b-ba2f-69fee82c7d4d\">\n",
              "    <div class=\"colab-df-container\">\n",
              "      <div>\n",
              "<style scoped>\n",
              "    .dataframe tbody tr th:only-of-type {\n",
              "        vertical-align: middle;\n",
              "    }\n",
              "\n",
              "    .dataframe tbody tr th {\n",
              "        vertical-align: top;\n",
              "    }\n",
              "\n",
              "    .dataframe thead th {\n",
              "        text-align: right;\n",
              "    }\n",
              "</style>\n",
              "<table border=\"1\" class=\"dataframe\">\n",
              "  <thead>\n",
              "    <tr style=\"text-align: right;\">\n",
              "      <th></th>\n",
              "      <th>type</th>\n",
              "      <th>posts</th>\n",
              "    </tr>\n",
              "  </thead>\n",
              "  <tbody>\n",
              "    <tr>\n",
              "      <th>0</th>\n",
              "      <td>INFJ</td>\n",
              "      <td>' enfp intj moment sportscenter top ten play p...</td>\n",
              "    </tr>\n",
              "    <tr>\n",
              "      <th>1</th>\n",
              "      <td>ENTP</td>\n",
              "      <td>'i'm finding lack post alarming. sex boring po...</td>\n",
              "    </tr>\n",
              "    <tr>\n",
              "      <th>2</th>\n",
              "      <td>INTP</td>\n",
              "      <td>'good one _____ course, say know; that's bless...</td>\n",
              "    </tr>\n",
              "    <tr>\n",
              "      <th>3</th>\n",
              "      <td>INTJ</td>\n",
              "      <td>'dear intp, enjoyed conversation day. esoteric...</td>\n",
              "    </tr>\n",
              "    <tr>\n",
              "      <th>4</th>\n",
              "      <td>ENTJ</td>\n",
              "      <td>'you're fired. that's another silly misconcept...</td>\n",
              "    </tr>\n",
              "  </tbody>\n",
              "</table>\n",
              "</div>\n",
              "      <button class=\"colab-df-convert\" onclick=\"convertToInteractive('df-e63066ad-5f3f-497b-ba2f-69fee82c7d4d')\"\n",
              "              title=\"Convert this dataframe to an interactive table.\"\n",
              "              style=\"display:none;\">\n",
              "        \n",
              "  <svg xmlns=\"http://www.w3.org/2000/svg\" height=\"24px\"viewBox=\"0 0 24 24\"\n",
              "       width=\"24px\">\n",
              "    <path d=\"M0 0h24v24H0V0z\" fill=\"none\"/>\n",
              "    <path d=\"M18.56 5.44l.94 2.06.94-2.06 2.06-.94-2.06-.94-.94-2.06-.94 2.06-2.06.94zm-11 1L8.5 8.5l.94-2.06 2.06-.94-2.06-.94L8.5 2.5l-.94 2.06-2.06.94zm10 10l.94 2.06.94-2.06 2.06-.94-2.06-.94-.94-2.06-.94 2.06-2.06.94z\"/><path d=\"M17.41 7.96l-1.37-1.37c-.4-.4-.92-.59-1.43-.59-.52 0-1.04.2-1.43.59L10.3 9.45l-7.72 7.72c-.78.78-.78 2.05 0 2.83L4 21.41c.39.39.9.59 1.41.59.51 0 1.02-.2 1.41-.59l7.78-7.78 2.81-2.81c.8-.78.8-2.07 0-2.86zM5.41 20L4 18.59l7.72-7.72 1.47 1.35L5.41 20z\"/>\n",
              "  </svg>\n",
              "      </button>\n",
              "      \n",
              "  <style>\n",
              "    .colab-df-container {\n",
              "      display:flex;\n",
              "      flex-wrap:wrap;\n",
              "      gap: 12px;\n",
              "    }\n",
              "\n",
              "    .colab-df-convert {\n",
              "      background-color: #E8F0FE;\n",
              "      border: none;\n",
              "      border-radius: 50%;\n",
              "      cursor: pointer;\n",
              "      display: none;\n",
              "      fill: #1967D2;\n",
              "      height: 32px;\n",
              "      padding: 0 0 0 0;\n",
              "      width: 32px;\n",
              "    }\n",
              "\n",
              "    .colab-df-convert:hover {\n",
              "      background-color: #E2EBFA;\n",
              "      box-shadow: 0px 1px 2px rgba(60, 64, 67, 0.3), 0px 1px 3px 1px rgba(60, 64, 67, 0.15);\n",
              "      fill: #174EA6;\n",
              "    }\n",
              "\n",
              "    [theme=dark] .colab-df-convert {\n",
              "      background-color: #3B4455;\n",
              "      fill: #D2E3FC;\n",
              "    }\n",
              "\n",
              "    [theme=dark] .colab-df-convert:hover {\n",
              "      background-color: #434B5C;\n",
              "      box-shadow: 0px 1px 3px 1px rgba(0, 0, 0, 0.15);\n",
              "      filter: drop-shadow(0px 1px 2px rgba(0, 0, 0, 0.3));\n",
              "      fill: #FFFFFF;\n",
              "    }\n",
              "  </style>\n",
              "\n",
              "      <script>\n",
              "        const buttonEl =\n",
              "          document.querySelector('#df-e63066ad-5f3f-497b-ba2f-69fee82c7d4d button.colab-df-convert');\n",
              "        buttonEl.style.display =\n",
              "          google.colab.kernel.accessAllowed ? 'block' : 'none';\n",
              "\n",
              "        async function convertToInteractive(key) {\n",
              "          const element = document.querySelector('#df-e63066ad-5f3f-497b-ba2f-69fee82c7d4d');\n",
              "          const dataTable =\n",
              "            await google.colab.kernel.invokeFunction('convertToInteractive',\n",
              "                                                     [key], {});\n",
              "          if (!dataTable) return;\n",
              "\n",
              "          const docLinkHtml = 'Like what you see? Visit the ' +\n",
              "            '<a target=\"_blank\" href=https://colab.research.google.com/notebooks/data_table.ipynb>data table notebook</a>'\n",
              "            + ' to learn more about interactive tables.';\n",
              "          element.innerHTML = '';\n",
              "          dataTable['output_type'] = 'display_data';\n",
              "          await google.colab.output.renderOutput(dataTable, element);\n",
              "          const docLink = document.createElement('div');\n",
              "          docLink.innerHTML = docLinkHtml;\n",
              "          element.appendChild(docLink);\n",
              "        }\n",
              "      </script>\n",
              "    </div>\n",
              "  </div>\n",
              "  "
            ]
          },
          "metadata": {},
          "execution_count": 6
        }
      ]
    },
    {
      "cell_type": "code",
      "source": [
        "#Grouping the personalities into 4 major groups\n",
        "\n",
        "map1 = {\"I\": 0, \"E\": 1}\n",
        "map2 = {\"N\": 0, \"S\": 1}\n",
        "map3 = {\"T\": 0, \"F\": 1}\n",
        "map4 = {\"J\": 0, \"P\": 1}\n",
        "df['I-E'] = df['type'].astype(str).str[0]\n",
        "df['I-E'] = df['I-E'].map(map1)\n",
        "df['N-S'] = df['type'].astype(str).str[1]\n",
        "df['N-S'] = df['N-S'].map(map2)\n",
        "df['T-F'] = df['type'].astype(str).str[2]\n",
        "df['T-F'] = df['T-F'].map(map3)\n",
        "df['J-P'] = df['type'].astype(str).str[3]\n",
        "df['J-P'] = df['J-P'].map(map4)\n",
        "#Finding http links,music,questions,images,exclamatory marks,ellipsis per comment to gain more insight on the personality\n",
        "\n",
        "df['http_pc'] = df['posts'].apply(lambda x: x.count('http')/50)\n",
        "df['music_pc'] = df['posts'].apply(lambda x: x.count('music')/50)\n",
        "df['question_pc'] = df['posts'].apply(lambda x: x.count('?')/50)\n",
        "df['img_pc'] = df['posts'].apply(lambda x: x.count('jpg')/50)\n",
        "df['excl_pc'] = df['posts'].apply(lambda x: x.count('!')/50)\n",
        "df['ellipsis_pc'] = df['posts'].apply(lambda x: x.count('...')/50)\n",
        "print(len(df.columns))"
      ],
      "metadata": {
        "colab": {
          "base_uri": "https://localhost:8080/"
        },
        "id": "-oCCQbVug2cA",
        "outputId": "6919d335-83c7-49f2-ceac-c302d6e5176d"
      },
      "execution_count": null,
      "outputs": [
        {
          "output_type": "stream",
          "name": "stdout",
          "text": [
            "12\n"
          ]
        }
      ]
    },
    {
      "cell_type": "markdown",
      "source": [
        "# **BUILDING ML MODEL**"
      ],
      "metadata": {
        "id": "APW5PCigE9VB"
      }
    },
    {
      "cell_type": "code",
      "source": [
        "X = df.drop(['type','posts','I-E','N-S','T-F','J-P'], axis=1).values\n",
        "y = df['type'].values"
      ],
      "metadata": {
        "id": "iiOmWc-UilNb"
      },
      "execution_count": null,
      "outputs": []
    },
    {
      "cell_type": "code",
      "source": [
        "print(X.shape)\n",
        "print(y.shape)"
      ],
      "metadata": {
        "colab": {
          "base_uri": "https://localhost:8080/"
        },
        "id": "7pFNjPavinOG",
        "outputId": "f3898ed1-0b17-4fc8-dbb0-c168f2ffa7e9"
      },
      "execution_count": null,
      "outputs": [
        {
          "output_type": "stream",
          "name": "stdout",
          "text": [
            "(8675, 6)\n",
            "(8675,)\n"
          ]
        }
      ]
    },
    {
      "cell_type": "code",
      "source": [
        "#Splitting data \n",
        "\n",
        "X_train,X_test,y_train,y_test = train_test_split(X,y,test_size = 0.2, random_state=42)\n",
        "print(X_train.shape)\n",
        "print(X_test.shape)\n",
        "print(y_train.shape)\n",
        "print(y_test.shape)"
      ],
      "metadata": {
        "colab": {
          "base_uri": "https://localhost:8080/"
        },
        "id": "OVrNTNOmjtS_",
        "outputId": "b2c64952-afd8-4444-ff05-db6785266aa4"
      },
      "execution_count": null,
      "outputs": [
        {
          "output_type": "stream",
          "name": "stdout",
          "text": [
            "(6940, 6)\n",
            "(1735, 6)\n",
            "(6940,)\n",
            "(1735,)\n"
          ]
        }
      ]
    },
    {
      "cell_type": "markdown",
      "source": [
        "# **ML MODELS ON COLUMNS**"
      ],
      "metadata": {
        "id": "qhc7XxI2FNSN"
      }
    },
    {
      "cell_type": "code",
      "source": [
        "#Introversion/Extroversion\n",
        "X_ie = df.drop(['type','posts','I-E'], axis=1).values\n",
        "y_ie = df['I-E'].values\n",
        "Xie_train,Xie_test,yie_train,yie_test=train_test_split(X_ie,y_ie,test_size = 0.2, random_state=5)\n",
        "\n",
        "\n",
        "#RANDOM FOREST\n",
        "rfc = RandomForestClassifier(n_estimators=100)\n",
        "rfc.fit(Xie_train, yie_train)\n",
        "\n",
        "Yie_pred = rfc.predict(Xie_test)\n",
        "\n",
        "rfc.score(Xie_train, yie_train)#Score accuracy\n",
        "acc_rfcie = round(rfc.score(Xie_train, yie_train) * 100, 2)\n",
        "print(\"Random Forest Predictions Model\",round(acc_rfcie,2,), \"%\")\n",
        "\n",
        "\n",
        "#KNN\n",
        "knn = KNeighborsClassifier(n_neighbors = 3)\n",
        "knn.fit(Xie_train, yie_train)\n",
        "\n",
        "Yie_pred = knn.predict(Xie_test)\n",
        "\n",
        "acc_knnie = round(knn.score(Xie_train, yie_train) * 100, 2)\n",
        "print(\"Knn neighbor prediction value\",round(acc_knnie,2,), \"%\")"
      ],
      "metadata": {
        "colab": {
          "base_uri": "https://localhost:8080/"
        },
        "id": "ZYSGTA7qkYLC",
        "outputId": "13b803fd-a313-4554-8eaa-53390e811c33"
      },
      "execution_count": null,
      "outputs": [
        {
          "output_type": "stream",
          "name": "stdout",
          "text": [
            "Random Forest Predictions Model 99.19 %\n",
            "Knn neighbor prediction value 83.26 %\n"
          ]
        }
      ]
    },
    {
      "cell_type": "code",
      "source": [
        "#Intuitive/Sensing \n",
        "X_ns = df.drop(['type','posts','N-S'], axis=1).values\n",
        "y_ns = df['N-S'].values\n",
        "Xns_train,Xns_test,yns_train,yns_test=train_test_split(X_ns,y_ns,test_size = 0.2, random_state=5)\n",
        "\n",
        "\n",
        "#RANDOM FOREST\n",
        "rfc = RandomForestClassifier(n_estimators=100)\n",
        "rfc.fit(Xns_train, yns_train)\n",
        "\n",
        "Y_predns = rfc.predict(Xns_test)\n",
        "\n",
        "rfc.score(Xns_train, yns_train)\n",
        "acc_rfcns = round(rfc.score(Xns_train, yns_train) * 100, 2)\n",
        "print(\"Random Forest Predictions Model\",round(acc_rfcns,2,), \"%\")\n",
        "\n",
        "\n",
        "#KNN\n",
        "knn = KNeighborsClassifier(n_neighbors = 3)\n",
        "knn.fit(Xns_train, yns_train)\n",
        "\n",
        "Y_predns = knn.predict(Xns_test)\n",
        "\n",
        "acc_knnns = round(knn.score(Xns_train, yns_train) * 100, 2)\n",
        "print(\"Knn neighbor prediction value\",round(acc_knnns,2,), \"%\")"
      ],
      "metadata": {
        "colab": {
          "base_uri": "https://localhost:8080/"
        },
        "id": "g5W80n0hrAHH",
        "outputId": "243cfded-e92d-4345-ac61-12ac26736c46"
      },
      "execution_count": null,
      "outputs": [
        {
          "output_type": "stream",
          "name": "stdout",
          "text": [
            "Random Forest Predictions Model 99.38 %\n",
            "Knn neighbor prediction value 88.46 %\n"
          ]
        }
      ]
    },
    {
      "cell_type": "code",
      "source": [
        "#Thinking/Feeling\n",
        "X_tf = df.drop(['type','posts','T-F'], axis=1).values\n",
        "y_tf = df['T-F'].values\n",
        "Xtf_train,Xtf_test,ytf_train,ytf_test=train_test_split(X_tf,y_tf,test_size = 0.1, random_state=5)\n",
        "\n",
        "\n",
        "#RANDOM FOREST\n",
        "rfc = RandomForestClassifier(n_estimators=100)\n",
        "rfc.fit(Xtf_train, ytf_train)\n",
        "\n",
        "Y_predtf = rfc.predict(Xtf_test)\n",
        "\n",
        "rfc.score(Xtf_train, ytf_train)\n",
        "acc_rfctf = round(rfc.score(Xtf_train, ytf_train) * 100, 2)\n",
        "print(\"Random Forest Predictions Model\",round(acc_rfctf,2,), \"%\")\n",
        "\n",
        "\n",
        "#KNN\n",
        "knn = KNeighborsClassifier(n_neighbors = 3)\n",
        "knn.fit(Xtf_train, ytf_train)\n",
        "\n",
        "Y_predtf = knn.predict(Xtf_test)\n",
        "\n",
        "acc_knntf = round(knn.score(Xtf_train, ytf_train) * 100, 2)\n",
        "print(\"Knn neighbor prediction value\",round(acc_knntf,2,), \"%\")"
      ],
      "metadata": {
        "colab": {
          "base_uri": "https://localhost:8080/"
        },
        "id": "PzlOpl1uDdwI",
        "outputId": "1f048e66-4395-4846-8438-b952351bb3be"
      },
      "execution_count": null,
      "outputs": [
        {
          "output_type": "stream",
          "name": "stdout",
          "text": [
            "Random Forest Predictions Model 98.18 %\n",
            "Knn neighbor prediction value 78.22 %\n"
          ]
        }
      ]
    },
    {
      "cell_type": "code",
      "source": [
        "#Judging/Perceiving \n",
        "X_jp = df.drop(['type','posts','J-P'], axis=1).values\n",
        "y_jp = df['J-P'].values\n",
        "Xjp_train,Xjp_test,yjp_train,yjp_test=train_test_split(X_jp,y_jp,test_size = 0.1, random_state=5)\n",
        "\n",
        "\n",
        "#RANDOM FOREST\n",
        "rfc = RandomForestClassifier(n_estimators=100)\n",
        "rfc.fit(Xjp_train, yjp_train)\n",
        "\n",
        "Y_predjp = rfc.predict(Xjp_test)\n",
        "\n",
        "rfc.score(Xjp_train, yjp_train)\n",
        "acc_rfcjp = round(rfc.score(Xjp_train, yjp_train) * 100, 2)\n",
        "print(\"Random Forest Predictions Model\",round(acc_rfcjp,2,), \"%\")\n",
        "\n",
        "\n",
        "#KNN\n",
        "knn = KNeighborsClassifier(n_neighbors = 3)\n",
        "knn.fit(Xjp_train, yjp_train)\n",
        "\n",
        "Y_predjp = knn.predict(Xjp_test)\n",
        "\n",
        "acc_knnjp = round(knn.score(Xjp_train, yjp_train) * 100, 2)\n",
        "print(\"Knn neighbor prediction value\",round(acc_knnjp,2,), \"%\")"
      ],
      "metadata": {
        "colab": {
          "base_uri": "https://localhost:8080/"
        },
        "id": "8-gYg0bTDpD1",
        "outputId": "bfae05d0-1374-4b63-a98b-5323d2967c4f"
      },
      "execution_count": null,
      "outputs": [
        {
          "output_type": "stream",
          "name": "stdout",
          "text": [
            "Random Forest Predictions Model 98.3 %\n",
            "Knn neighbor prediction value 76.98 %\n"
          ]
        }
      ]
    },
    {
      "cell_type": "code",
      "source": [
        "#Visualization of different accuracies\n",
        "plt.style.use('ggplot')\n",
        "plt.plot()\n",
        "x = np.arange(4)\n",
        "\n",
        "y1=round(acc_rfcie,2),round(acc_rfcns,2),round(acc_rfctf,2),round(acc_rfcjp,2)\n",
        "y2=round(acc_knnie,2),round(acc_knnns,2),round(acc_knntf,2),round(acc_knnjp,2)\n",
        "width = 0.2\n",
        "plt.bar(x-0.2, y1, width, color='blue')\n",
        "plt.bar(x , y2, width, color='red')\n",
        "#plt.bar(x +0.2, y3, width, color='green')\n",
        "\n",
        "plt.title(\"Algorithm Comparison\")\n",
        "plt.legend([\"Random Forest\",\"KNN\"],loc=\"upper left\", bbox_to_anchor = (1.0,0.6))\n",
        "plt.xticks(x, [\"I-E\", \"N-S\", \"T-F\", \"J-P\"])\n",
        "\n",
        "plt.xlabel(\"Personalities\")\n",
        "plt.ylabel(\"Efficiency (in %)\")"
      ],
      "metadata": {
        "colab": {
          "base_uri": "https://localhost:8080/",
          "height": 331
        },
        "id": "hLRE-99xL7Qa",
        "outputId": "e4239080-e9e8-4523-df4a-26d83c3ca1f2"
      },
      "execution_count": null,
      "outputs": [
        {
          "output_type": "execute_result",
          "data": {
            "text/plain": [
              "Text(0, 0.5, 'Efficiency (in %)')"
            ]
          },
          "metadata": {},
          "execution_count": 15
        },
        {
          "output_type": "display_data",
          "data": {
            "text/plain": [
              "<Figure size 432x288 with 1 Axes>"
            ],
            "image/png": "[encoded data removed]"
          },
          "metadata": {}
        }
      ]
    }
  ]
}